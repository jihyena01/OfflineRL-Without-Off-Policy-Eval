{
 "cells": [
  {
   "cell_type": "code",
   "execution_count": null,
   "metadata": {},
   "outputs": [],
   "source": [
    "import torch\n",
    "\n",
    "# 파일 경로\n",
    "file_path = '/home/comet/Documents/KAIST/RL/onestep-rl/results/one_step_bullet-halfcheetah-medium-v0_beta/train_bullet-halfcheetah-medium-v0_0_bc_bullet-halfcheetah-medium-v0.pt_400000.pt_0.pt'\n",
    "\n",
    "# 파일 로드\n",
    "data = torch.load(file_path)\n",
    "\n",
    "# 데이터 타입과 내용 확인\n",
    "print(type(data))\n",
    "print(data)"
   ]
  }
 ],
 "metadata": {
  "language_info": {
   "name": "python"
  }
 },
 "nbformat": 4,
 "nbformat_minor": 2
}
